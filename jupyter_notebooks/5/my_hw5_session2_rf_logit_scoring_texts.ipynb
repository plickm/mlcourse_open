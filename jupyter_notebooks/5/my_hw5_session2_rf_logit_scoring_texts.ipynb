{
 "cells": [
  {
   "cell_type": "markdown",
   "metadata": {},
   "source": [
    "<center>\n",
    "<img src=\"../../img/ods_stickers.jpg\">\n",
    "## Открытый курс по машинному обучению. Сессия № 2\n",
    "\n",
    "Автор материала: Data Science интерн Ciklum, студент магистерской программы CSDS UCU Виталий Радченко, программист-исследователь Mail.ru Group, старший преподаватель Факультета Компьютерных Наук ВШЭ Юрий Кашницкий. Материал распространяется на условиях лицензии [Creative Commons CC BY-NC-SA 4.0](https://creativecommons.org/licenses/by-nc-sa/4.0/). Можно использовать в любых целях (редактировать, поправлять и брать за основу), кроме коммерческих, но с обязательным упоминанием автора материала."
   ]
  },
  {
   "cell_type": "markdown",
   "metadata": {},
   "source": [
    "# <center> Домашнее задание №5\n",
    "## <center> Случайный лес и логистическая регрессия в задачах кредитного скоринга и классификации отзывов к фильмам"
   ]
  },
  {
   "cell_type": "markdown",
   "metadata": {},
   "source": [
    "#### Нашей главной задачей будет построение и настройка моделей для задач кредитного скоринга и анализа отзывов к фильмам. Заполните код в клетках (где написано \"Ваш код здесь\") и ответьте на вопросы в [веб-форме](https://goo.gl/7nbdvV).\n",
    "\n",
    "Но для разминки решите первое задание.\n",
    "\n",
    "**<font color='red'>Задание 1.</font>** В зале суда есть 7 присяжных, каждый из них по отдельности с вероятностью 80% может правильно определить, виновен подсудимый или нет. С какой вероятностью присяжные все вместе вынесут правильный вердикт, если решение принимается большинством голосов?\n",
    "\n",
    "**<font color='red'>Варианты ответа:</font>**\n",
    "- 20.97%\n",
    "- 80.00%\n",
    "- 83.70%\n",
    "- 96.66%\n",
    "\n",
    "Теперь перейдем непосредственно к машинному обучению.\n",
    "\n",
    "#### Данные по кредитному скорингу представлены следующим образом:\n",
    "\n",
    "##### Прогнозируемая  переменная\n",
    "* SeriousDlqin2yrs\t– Человек имел долгие просрочки выплат платежей за 2 года; бинарный признак\n",
    "\n",
    "##### Независимые признаки\n",
    "* age\t                         – Возраст заёмщика кредитных средств (число полных лет); тип – integer\n",
    "* NumberOfTime30-59DaysPastDueNotWorse\t– Количество раз, когда человек имел просрочку выплаты других кредитов более 30-59 дней (но не больше) в течение последних двух лет; тип -\tinteger\n",
    "* DebtRatio –\tЕжемесячный отчисления на задолжености(кредиты,алименты и т.д.)  / совокупный месячный доход \tpercentage; тип – float\n",
    "* MonthlyIncome\t– Месячный доход в долларах; тип –\tfloat\n",
    "* NumberOfTimes90DaysLate – Количество раз, когда человек имел просрочку выплаты других кредитов более 90 дней; тип –\tinteger\n",
    "* NumberOfTime60-89DaysPastDueNotWorse –\tКоличество раз, когда человек имел просрочку выплаты других кредитов более 60-89 дней (но не больше) в течение последних двух лет; тип – integer\n",
    "* NumberOfDependents – Число человек в семье кредитозаёмщика; тип –\tinteger"
   ]
  },
  {
   "cell_type": "code",
   "execution_count": null,
   "metadata": {
    "collapsed": true
   },
   "outputs": [],
   "source": [
    "#ответ - 4"
   ]
  },
  {
   "cell_type": "code",
   "execution_count": 1,
   "metadata": {
    "collapsed": true
   },
   "outputs": [],
   "source": [
    "import numpy as np\n",
    "import pandas as pd\n",
    "import matplotlib.pyplot as plt\n",
    "%matplotlib inline"
   ]
  },
  {
   "cell_type": "markdown",
   "metadata": {},
   "source": [
    "Напишем функцию, которая будет заменять значения NaN на медиану в каждом столбце таблицы. "
   ]
  },
  {
   "cell_type": "code",
   "execution_count": 2,
   "metadata": {
    "collapsed": true
   },
   "outputs": [],
   "source": [
    "def impute_nan_with_median(table):\n",
    "    for col in table.columns:\n",
    "        table[col]= table[col].fillna(table[col].median())\n",
    "    return table   "
   ]
  },
  {
   "cell_type": "markdown",
   "metadata": {},
   "source": [
    "Считываем данные"
   ]
  },
  {
   "cell_type": "code",
   "execution_count": 3,
   "metadata": {
    "collapsed": false
   },
   "outputs": [
    {
     "data": {
      "text/html": [
       "<div>\n",
       "<table border=\"1\" class=\"dataframe\">\n",
       "  <thead>\n",
       "    <tr style=\"text-align: right;\">\n",
       "      <th></th>\n",
       "      <th>SeriousDlqin2yrs</th>\n",
       "      <th>age</th>\n",
       "      <th>NumberOfTime30-59DaysPastDueNotWorse</th>\n",
       "      <th>DebtRatio</th>\n",
       "      <th>NumberOfTimes90DaysLate</th>\n",
       "      <th>NumberOfTime60-89DaysPastDueNotWorse</th>\n",
       "      <th>MonthlyIncome</th>\n",
       "      <th>NumberOfDependents</th>\n",
       "    </tr>\n",
       "  </thead>\n",
       "  <tbody>\n",
       "    <tr>\n",
       "      <th>0</th>\n",
       "      <td>0</td>\n",
       "      <td>64</td>\n",
       "      <td>0</td>\n",
       "      <td>0.249908</td>\n",
       "      <td>0</td>\n",
       "      <td>0</td>\n",
       "      <td>8158.0</td>\n",
       "      <td>0.0</td>\n",
       "    </tr>\n",
       "    <tr>\n",
       "      <th>1</th>\n",
       "      <td>0</td>\n",
       "      <td>58</td>\n",
       "      <td>0</td>\n",
       "      <td>3870.000000</td>\n",
       "      <td>0</td>\n",
       "      <td>0</td>\n",
       "      <td>NaN</td>\n",
       "      <td>0.0</td>\n",
       "    </tr>\n",
       "    <tr>\n",
       "      <th>2</th>\n",
       "      <td>0</td>\n",
       "      <td>41</td>\n",
       "      <td>0</td>\n",
       "      <td>0.456127</td>\n",
       "      <td>0</td>\n",
       "      <td>0</td>\n",
       "      <td>6666.0</td>\n",
       "      <td>0.0</td>\n",
       "    </tr>\n",
       "    <tr>\n",
       "      <th>3</th>\n",
       "      <td>0</td>\n",
       "      <td>43</td>\n",
       "      <td>0</td>\n",
       "      <td>0.000190</td>\n",
       "      <td>0</td>\n",
       "      <td>0</td>\n",
       "      <td>10500.0</td>\n",
       "      <td>2.0</td>\n",
       "    </tr>\n",
       "    <tr>\n",
       "      <th>4</th>\n",
       "      <td>1</td>\n",
       "      <td>49</td>\n",
       "      <td>0</td>\n",
       "      <td>0.271820</td>\n",
       "      <td>0</td>\n",
       "      <td>0</td>\n",
       "      <td>400.0</td>\n",
       "      <td>0.0</td>\n",
       "    </tr>\n",
       "  </tbody>\n",
       "</table>\n",
       "</div>"
      ],
      "text/plain": [
       "   SeriousDlqin2yrs  age  NumberOfTime30-59DaysPastDueNotWorse    DebtRatio  \\\n",
       "0                 0   64                                     0     0.249908   \n",
       "1                 0   58                                     0  3870.000000   \n",
       "2                 0   41                                     0     0.456127   \n",
       "3                 0   43                                     0     0.000190   \n",
       "4                 1   49                                     0     0.271820   \n",
       "\n",
       "   NumberOfTimes90DaysLate  NumberOfTime60-89DaysPastDueNotWorse  \\\n",
       "0                        0                                     0   \n",
       "1                        0                                     0   \n",
       "2                        0                                     0   \n",
       "3                        0                                     0   \n",
       "4                        0                                     0   \n",
       "\n",
       "   MonthlyIncome  NumberOfDependents  \n",
       "0         8158.0                 0.0  \n",
       "1            NaN                 0.0  \n",
       "2         6666.0                 0.0  \n",
       "3        10500.0                 2.0  \n",
       "4          400.0                 0.0  "
      ]
     },
     "execution_count": 3,
     "metadata": {},
     "output_type": "execute_result"
    }
   ],
   "source": [
    "data = pd.read_csv('../../data/credit_scoring_sample.csv', sep=\";\")\n",
    "data.head()"
   ]
  },
  {
   "cell_type": "markdown",
   "metadata": {},
   "source": [
    "Рассмотрим типы считанных данных"
   ]
  },
  {
   "cell_type": "code",
   "execution_count": 4,
   "metadata": {
    "collapsed": false
   },
   "outputs": [
    {
     "data": {
      "text/plain": [
       "SeriousDlqin2yrs                          int64\n",
       "age                                       int64\n",
       "NumberOfTime30-59DaysPastDueNotWorse      int64\n",
       "DebtRatio                               float64\n",
       "NumberOfTimes90DaysLate                   int64\n",
       "NumberOfTime60-89DaysPastDueNotWorse      int64\n",
       "MonthlyIncome                           float64\n",
       "NumberOfDependents                      float64\n",
       "dtype: object"
      ]
     },
     "execution_count": 4,
     "metadata": {},
     "output_type": "execute_result"
    }
   ],
   "source": [
    "data.dtypes"
   ]
  },
  {
   "cell_type": "markdown",
   "metadata": {},
   "source": [
    "Посмотрим на распределение классов в зависимой переменной"
   ]
  },
  {
   "cell_type": "code",
   "execution_count": 5,
   "metadata": {
    "collapsed": false
   },
   "outputs": [
    {
     "name": "stdout",
     "output_type": "stream",
     "text": [
      "Distribution of target:\n"
     ]
    },
    {
     "data": {
      "text/plain": [
       "0    0.777511\n",
       "1    0.222489\n",
       "Name: SeriousDlqin2yrs, dtype: float64"
      ]
     },
     "execution_count": 5,
     "metadata": {},
     "output_type": "execute_result"
    },
    {
     "data": {
      "image/png": "[encoded data removed]",
      "text/plain": [
       "<matplotlib.figure.Figure at 0x208246a90f0>"
      ]
     },
     "metadata": {},
     "output_type": "display_data"
    }
   ],
   "source": [
    "ax = data['SeriousDlqin2yrs'].hist(orientation='horizontal', color='red')\n",
    "ax.set_xlabel(\"number_of_observations\")\n",
    "ax.set_ylabel(\"unique_value\")\n",
    "ax.set_title(\"Target distribution\")\n",
    "\n",
    "print('Distribution of target:')\n",
    "data['SeriousDlqin2yrs'].value_counts() / data.shape[0]"
   ]
  },
  {
   "cell_type": "markdown",
   "metadata": {},
   "source": [
    "Выберем названия всех признаков, кроме прогнозируемого"
   ]
  },
  {
   "cell_type": "code",
   "execution_count": 6,
   "metadata": {
    "collapsed": false
   },
   "outputs": [
    {
     "data": {
      "text/plain": [
       "['age',\n",
       " 'NumberOfTime30-59DaysPastDueNotWorse',\n",
       " 'DebtRatio',\n",
       " 'NumberOfTimes90DaysLate',\n",
       " 'NumberOfTime60-89DaysPastDueNotWorse',\n",
       " 'MonthlyIncome',\n",
       " 'NumberOfDependents']"
      ]
     },
     "execution_count": 6,
     "metadata": {},
     "output_type": "execute_result"
    }
   ],
   "source": [
    "independent_columns_names = data.columns.values\n",
    "independent_columns_names = [x for x in data if x != 'SeriousDlqin2yrs']\n",
    "independent_columns_names"
   ]
  },
  {
   "cell_type": "markdown",
   "metadata": {},
   "source": [
    "Применяем функцию, заменяющую все значения NaN на медианное значение соответствующего столбца."
   ]
  },
  {
   "cell_type": "code",
   "execution_count": 9,
   "metadata": {
    "collapsed": true
   },
   "outputs": [],
   "source": [
    "table = impute_nan_with_median(data)"
   ]
  },
  {
   "cell_type": "markdown",
   "metadata": {},
   "source": [
    "Разделяем целевой признак и все остальные – получаем обучающую выборку. "
   ]
  },
  {
   "cell_type": "code",
   "execution_count": 10,
   "metadata": {
    "collapsed": true
   },
   "outputs": [],
   "source": [
    "X = table[independent_columns_names]\n",
    "y = table['SeriousDlqin2yrs']"
   ]
  },
  {
   "cell_type": "markdown",
   "metadata": {},
   "source": [
    "Выведем версии основных библиотек – результат `GridSearchCV`, например, может отличаться в разных версиях `sklearn` даже при фиксированном `random_state`."
   ]
  },
  {
   "cell_type": "code",
   "execution_count": 12,
   "metadata": {
    "collapsed": false
   },
   "outputs": [],
   "source": [
    "#!pip install watermark\n",
    "%load_ext watermark"
   ]
  },
  {
   "cell_type": "code",
   "execution_count": 13,
   "metadata": {
    "collapsed": false
   },
   "outputs": [
    {
     "name": "stdout",
     "output_type": "stream",
     "text": [
      "CPython 3.6.0\n",
      "IPython 5.1.0\n",
      "\n",
      "numpy 1.11.3\n",
      "scipy 0.18.1\n",
      "pandas 0.19.2\n",
      "matplotlib 2.0.0\n",
      "sklearn 0.18.1\n",
      "\n",
      "compiler   : MSC v.1900 64 bit (AMD64)\n",
      "system     : Windows\n",
      "release    : 10\n",
      "machine    : AMD64\n",
      "processor  : Intel64 Family 6 Model 58 Stepping 9, GenuineIntel\n",
      "CPU cores  : 8\n",
      "interpreter: 64bit\n",
      "Git hash   : be3e246fe0e679bc1f96e50b67aac878dfff7cdb\n"
     ]
    }
   ],
   "source": [
    "%watermark -v -m -p numpy,scipy,pandas,matplotlib,sklearn -g"
   ]
  },
  {
   "cell_type": "markdown",
   "metadata": {},
   "source": [
    "# Бутстрэп\n",
    "\n",
    "**<font color='red'>Задание 2.</font>** Сделайте интервальную оценку (на основе бутстрэпа) среднего дохода (MonthlyIncome) клиентов, просрочивших выплату кредита, и отдельно – для вовремя заплативших. Стройте 90% доверительный интервал. Найдите разницу между нижней границей полученного интервала для не просрочивших кредит и верхней границей – для просрочивших. \n",
    "То есть вас просят построить 90%-ые интервалы для дохода \"хороших\" клиентов $[good\\_income\\_lower, good\\_income\\_upper]$ и для \"плохих\" – $[bad\\_income\\_lower, bad\\_income\\_upper]$ и найти разницу $good\\_income\\_lower - bad\\_income\\_upper$.\n",
    "\n",
    "Используйте пример из [статьи](https://habrahabr.ru/company/ods/blog/324402/). Поставьте `np.random.seed(17)`. Округлите ответ до целых."
   ]
  },
  {
   "cell_type": "markdown",
   "metadata": {},
   "source": [
    "**<font color='red'>Варианты ответа:</font>**\n",
    "- 345\n",
    "- 425\n",
    "- 585\n",
    "- 655"
   ]
  },
  {
   "cell_type": "code",
   "execution_count": 14,
   "metadata": {
    "collapsed": true
   },
   "outputs": [],
   "source": [
    "def get_bootstrap_samples(data, n_samples):\n",
    "    # функция для генерации подвыборок с помощью бутстрэпа\n",
    "    indices = np.random.randint(0, len(data), (n_samples, len(data)))\n",
    "    samples = data[indices]\n",
    "    return samples"
   ]
  },
  {
   "cell_type": "code",
   "execution_count": 19,
   "metadata": {
    "collapsed": false
   },
   "outputs": [],
   "source": [
    "def stat_intervals(stat, alpha):\n",
    "    # функция для интервальной оценки\n",
    "    boundaries = np.percentile(stat, [100 * alpha / 2., 100 * (1 - alpha / 2.)])\n",
    "    return boundaries"
   ]
  },
  {
   "cell_type": "code",
   "execution_count": 24,
   "metadata": {
    "collapsed": false
   },
   "outputs": [
    {
     "data": {
      "text/plain": [
       "(10026,)"
      ]
     },
     "execution_count": 24,
     "metadata": {},
     "output_type": "execute_result"
    }
   ],
   "source": [
    "bad_income = data[data['SeriousDlqin2yrs'] == 1]['MonthlyIncome'].values\n",
    "bad_income.shape"
   ]
  },
  {
   "cell_type": "code",
   "execution_count": 26,
   "metadata": {
    "collapsed": false
   },
   "outputs": [
    {
     "data": {
      "text/plain": [
       "(35037,)"
      ]
     },
     "execution_count": 26,
     "metadata": {},
     "output_type": "execute_result"
    }
   ],
   "source": [
    "good_income = data[data['SeriousDlqin2yrs'] == 0]['MonthlyIncome'].values\n",
    "good_income.shape"
   ]
  },
  {
   "cell_type": "code",
   "execution_count": 36,
   "metadata": {
    "collapsed": true
   },
   "outputs": [],
   "source": [
    "np.random.seed(17)"
   ]
  },
  {
   "cell_type": "code",
   "execution_count": 37,
   "metadata": {
    "collapsed": true
   },
   "outputs": [],
   "source": [
    "good_mean_scores = [np.mean(sample) \n",
    "                       for sample in get_bootstrap_samples(good_income, 1000)]\n",
    "bad_mean_scores = [np.mean(sample) \n",
    "                       for sample in get_bootstrap_samples(bad_income, 1000)]"
   ]
  },
  {
   "cell_type": "code",
   "execution_count": 38,
   "metadata": {
    "collapsed": false
   },
   "outputs": [
    {
     "name": "stdout",
     "output_type": "stream",
     "text": [
      "Monthly income from good:  mean  [ 6295.93237577  6505.35467934]\n",
      "Monthly income from bad:  mean  [ 5471.64826451  5643.93562737]\n"
     ]
    }
   ],
   "source": [
    "print(\"Monthly income from good:  mean \",  stat_intervals(good_mean_scores, 0.10))\n",
    "print(\"Monthly income from bad:  mean \",  stat_intervals(bad_mean_scores, 0.10))"
   ]
  },
  {
   "cell_type": "code",
   "execution_count": 39,
   "metadata": {
    "collapsed": false
   },
   "outputs": [
    {
     "data": {
      "text/plain": [
       "646.5962761700002"
      ]
     },
     "execution_count": 39,
     "metadata": {},
     "output_type": "execute_result"
    }
   ],
   "source": [
    "6294.17040843 - 5647.57413226"
   ]
  },
  {
   "cell_type": "code",
   "execution_count": null,
   "metadata": {
    "collapsed": true
   },
   "outputs": [],
   "source": [
    "#ответ - 4"
   ]
  },
  {
   "cell_type": "markdown",
   "metadata": {},
   "source": [
    "# Дерево решений, подбор гиперпараметров"
   ]
  },
  {
   "cell_type": "markdown",
   "metadata": {},
   "source": [
    "Одной из основных метрик качества модели является площадь под ROC-кривой. Значения ROC-AUC лежат от 0 до 1. Чем ближе значение ROC-AUC к 1, тем качественнее происходит классификация моделью.\n",
    "\n",
    "Найдите с помощью `GridSearchCV` гиперпараметры `DecisionTreeClassifier`, максимизирующие площадь под ROC-кривой. "
   ]
  },
  {
   "cell_type": "code",
   "execution_count": 41,
   "metadata": {
    "collapsed": true
   },
   "outputs": [],
   "source": [
    "from sklearn.tree import DecisionTreeClassifier\n",
    "from sklearn.model_selection import GridSearchCV, StratifiedKFold"
   ]
  },
  {
   "cell_type": "markdown",
   "metadata": {},
   "source": [
    "Используем модуль `DecisionTreeClassifier` для построения дерева решений. Из-за несбалансированности классов  в целевом признаке добавляем параметр балансировки. Используем также параметр `random_state=17` для воспроизводимости результатов."
   ]
  },
  {
   "cell_type": "code",
   "execution_count": 42,
   "metadata": {
    "collapsed": true
   },
   "outputs": [],
   "source": [
    "dt = DecisionTreeClassifier(random_state=17, class_weight='balanced')"
   ]
  },
  {
   "cell_type": "markdown",
   "metadata": {},
   "source": [
    "Перебирать будем вот такие значения гиперпараметров:"
   ]
  },
  {
   "cell_type": "code",
   "execution_count": 43,
   "metadata": {
    "collapsed": true
   },
   "outputs": [],
   "source": [
    "max_depth_values = [5, 6, 7, 8, 9]\n",
    "max_features_values = [4, 5, 6, 7]\n",
    "tree_params = {'max_depth': max_depth_values,\n",
    "               'max_features': max_features_values}"
   ]
  },
  {
   "cell_type": "markdown",
   "metadata": {},
   "source": [
    "Зафиксируем кросс-валидацию: стратифицированная, 5 разбиений с перемешиванием, не забываем про `random_state`."
   ]
  },
  {
   "cell_type": "code",
   "execution_count": 44,
   "metadata": {
    "collapsed": true
   },
   "outputs": [],
   "source": [
    "skf = StratifiedKFold(n_splits=5, shuffle=True, random_state=17)"
   ]
  },
  {
   "cell_type": "markdown",
   "metadata": {},
   "source": [
    "**<font color='red'>Задание 3.</font>**\n",
    "Сделайте GridSearch с метрикой ROC AUC по гиперпараметрам из словаря `tree_params`. Какое максимальное значение ROC AUC получилось (округлите до 2 знаков после разделителя)? Назовем кросс-валидацию устойчивой, если стандартное отклонение метрики качества на кросс-валидации меньше 1%. Получилась ли кросс-валидация устойчивой при оптимальных сочетаниях гиперпараметров (т.е. обеспечивающих максимум среднего значения ROC AUC на кросс-валидации)?"
   ]
  },
  {
   "cell_type": "markdown",
   "metadata": {},
   "source": [
    "**<font color='red'>Варианты ответа:</font>**\n",
    "- 0.82, нет\n",
    "- 0.84, нет\n",
    "- 0.82, да\n",
    "- 0.84, да"
   ]
  },
  {
   "cell_type": "code",
   "execution_count": 46,
   "metadata": {
    "collapsed": true
   },
   "outputs": [],
   "source": [
    "tree_grid = GridSearchCV(dt, tree_params, cv=skf, n_jobs=-1, scoring='roc_auc')"
   ]
  },
  {
   "cell_type": "code",
   "execution_count": 48,
   "metadata": {
    "collapsed": false
   },
   "outputs": [
    {
     "name": "stdout",
     "output_type": "stream",
     "text": [
      "Wall time: 10.1 s\n"
     ]
    },
    {
     "data": {
      "text/plain": [
       "GridSearchCV(cv=StratifiedKFold(n_splits=5, random_state=17, shuffle=True),\n",
       "       error_score='raise',\n",
       "       estimator=DecisionTreeClassifier(class_weight='balanced', criterion='gini',\n",
       "            max_depth=None, max_features=None, max_leaf_nodes=None,\n",
       "            min_impurity_split=1e-07, min_samples_leaf=1,\n",
       "            min_samples_split=2, min_weight_fraction_leaf=0.0,\n",
       "            presort=False, random_state=17, splitter='best'),\n",
       "       fit_params={}, iid=True, n_jobs=-1,\n",
       "       param_grid={'max_depth': [5, 6, 7, 8, 9], 'max_features': [4, 5, 6, 7]},\n",
       "       pre_dispatch='2*n_jobs', refit=True, return_train_score=True,\n",
       "       scoring='roc_auc', verbose=0)"
      ]
     },
     "execution_count": 48,
     "metadata": {},
     "output_type": "execute_result"
    }
   ],
   "source": [
    "%%time\n",
    "tree_grid.fit(X, y);"
   ]
  },
  {
   "cell_type": "code",
   "execution_count": 50,
   "metadata": {
    "collapsed": false
   },
   "outputs": [
    {
     "data": {
      "text/plain": [
       "0.82189954385088015"
      ]
     },
     "execution_count": 50,
     "metadata": {},
     "output_type": "execute_result"
    }
   ],
   "source": [
    "tree_grid.best_score_"
   ]
  },
  {
   "cell_type": "code",
   "execution_count": 53,
   "metadata": {
    "collapsed": false
   },
   "outputs": [
    {
     "data": {
      "text/plain": [
       "{'max_depth': 7, 'max_features': 6}"
      ]
     },
     "execution_count": 53,
     "metadata": {},
     "output_type": "execute_result"
    }
   ],
   "source": [
    "tree_grid.best_params_"
   ]
  },
  {
   "cell_type": "code",
   "execution_count": 52,
   "metadata": {
    "collapsed": false
   },
   "outputs": [
    {
     "data": {
      "text/plain": [
       "{'mean_fit_time': array([ 0.09666352,  0.12968593,  0.17451515,  0.19232564,  0.16610942,\n",
       "         0.17631707,  0.19493003,  0.2031332 ,  0.18392115,  0.20873713,\n",
       "         0.25256667,  0.25016537,  0.21814337,  0.2587719 ,  0.25076618,\n",
       "         0.25797071,  0.22214646,  0.23495498,  0.25476775,  0.23955822]),\n",
       " 'mean_score_time': array([ 0.00420275,  0.00500302,  0.00640459,  0.00620437,  0.0058043 ,\n",
       "         0.00620389,  0.00580301,  0.00640583,  0.00720544,  0.0070056 ,\n",
       "         0.00840616,  0.00920677,  0.00840721,  0.01140776,  0.0074038 ,\n",
       "         0.00640535,  0.00940704,  0.00780554,  0.00800595,  0.00500336]),\n",
       " 'mean_test_score': array([ 0.81253644,  0.80472184,  0.81150084,  0.81525403,  0.8164059 ,\n",
       "         0.81539175,  0.8157536 ,  0.82042837,  0.82049241,  0.81770485,\n",
       "         0.82189954,  0.81782658,  0.81674025,  0.81768178,  0.8166942 ,\n",
       "         0.8184104 ,  0.81034392,  0.81102278,  0.81185462,  0.81412   ]),\n",
       " 'mean_train_score': array([ 0.81631827,  0.80999646,  0.81656969,  0.81918536,  0.82302149,\n",
       "         0.8242272 ,  0.82381838,  0.82806201,  0.83265754,  0.83258742,\n",
       "         0.83523853,  0.83426573,  0.8394631 ,  0.84125986,  0.84090826,\n",
       "         0.84260747,  0.84660548,  0.84884221,  0.84984147,  0.85069618]),\n",
       " 'param_max_depth': masked_array(data = [5 5 5 5 6 6 6 6 7 7 7 7 8 8 8 8 9 9 9 9],\n",
       "              mask = [False False False False False False False False False False False False\n",
       "  False False False False False False False False],\n",
       "        fill_value = ?),\n",
       " 'param_max_features': masked_array(data = [4 5 6 7 4 5 6 7 4 5 6 7 4 5 6 7 4 5 6 7],\n",
       "              mask = [False False False False False False False False False False False False\n",
       "  False False False False False False False False],\n",
       "        fill_value = ?),\n",
       " 'params': ({'max_depth': 5, 'max_features': 4},\n",
       "  {'max_depth': 5, 'max_features': 5},\n",
       "  {'max_depth': 5, 'max_features': 6},\n",
       "  {'max_depth': 5, 'max_features': 7},\n",
       "  {'max_depth': 6, 'max_features': 4},\n",
       "  {'max_depth': 6, 'max_features': 5},\n",
       "  {'max_depth': 6, 'max_features': 6},\n",
       "  {'max_depth': 6, 'max_features': 7},\n",
       "  {'max_depth': 7, 'max_features': 4},\n",
       "  {'max_depth': 7, 'max_features': 5},\n",
       "  {'max_depth': 7, 'max_features': 6},\n",
       "  {'max_depth': 7, 'max_features': 7},\n",
       "  {'max_depth': 8, 'max_features': 4},\n",
       "  {'max_depth': 8, 'max_features': 5},\n",
       "  {'max_depth': 8, 'max_features': 6},\n",
       "  {'max_depth': 8, 'max_features': 7},\n",
       "  {'max_depth': 9, 'max_features': 4},\n",
       "  {'max_depth': 9, 'max_features': 5},\n",
       "  {'max_depth': 9, 'max_features': 6},\n",
       "  {'max_depth': 9, 'max_features': 7}),\n",
       " 'rank_test_score': array([15, 20, 17, 13, 10, 12, 11,  3,  2,  6,  1,  5,  8,  7,  9,  4, 19,\n",
       "        18, 16, 14]),\n",
       " 'split0_test_score': array([ 0.81384631,  0.80081691,  0.81162655,  0.81376099,  0.81756667,\n",
       "         0.81338547,  0.81565737,  0.8215244 ,  0.82048361,  0.81849621,\n",
       "         0.8230929 ,  0.82112865,  0.81758413,  0.82023191,  0.81740733,\n",
       "         0.82352241,  0.80692679,  0.81125943,  0.81153639,  0.81832926]),\n",
       " 'split0_train_score': array([ 0.81830078,  0.81092956,  0.81720646,  0.81953049,  0.82456317,\n",
       "         0.8248411 ,  0.82356064,  0.82874597,  0.83448338,  0.83241172,\n",
       "         0.83604868,  0.83448931,  0.84015829,  0.84183902,  0.84258331,\n",
       "         0.84352204,  0.84706954,  0.85004469,  0.85112419,  0.85147106]),\n",
       " 'split1_test_score': array([ 0.81293132,  0.81293178,  0.81671143,  0.81981971,  0.81859012,\n",
       "         0.81611713,  0.81874214,  0.82451655,  0.81756037,  0.81817228,\n",
       "         0.82298812,  0.81658304,  0.81913962,  0.81535239,  0.81677449,\n",
       "         0.81715062,  0.80625808,  0.81191239,  0.81010455,  0.81074027]),\n",
       " 'split1_train_score': array([ 0.81312175,  0.80780444,  0.81557711,  0.81791504,  0.82164657,\n",
       "         0.82250556,  0.82275298,  0.82664593,  0.83137459,  0.83140894,\n",
       "         0.83481845,  0.83328242,  0.83915754,  0.84108687,  0.84097396,\n",
       "         0.84203122,  0.84688301,  0.84945089,  0.84999746,  0.85087912]),\n",
       " 'split2_test_score': array([ 0.80832103,  0.8003581 ,  0.8094824 ,  0.81482127,  0.81342049,\n",
       "         0.81232672,  0.814948  ,  0.81988496,  0.81902661,  0.81706213,\n",
       "         0.82060928,  0.82162814,  0.81420425,  0.81930912,  0.8205197 ,\n",
       "         0.82164156,  0.81377913,  0.81152012,  0.81539497,  0.81866228]),\n",
       " 'split2_train_score': array([ 0.81515859,  0.80822838,  0.81649949,  0.81934628,  0.8214372 ,\n",
       "         0.82227711,  0.82323601,  0.82891014,  0.832285  ,  0.83226986,\n",
       "         0.83382319,  0.83483235,  0.83800574,  0.8407212 ,  0.84003044,\n",
       "         0.84269685,  0.84617715,  0.84685643,  0.84930651,  0.85085488]),\n",
       " 'split3_test_score': array([ 0.81169664,  0.80399444,  0.80814778,  0.81261403,  0.81511367,\n",
       "         0.81801889,  0.81441163,  0.8203256 ,  0.82277263,  0.82011587,\n",
       "         0.81899344,  0.81596907,  0.81470154,  0.816549  ,  0.80894496,\n",
       "         0.81613335,  0.80947617,  0.80633011,  0.80262623,  0.81047648]),\n",
       " 'split3_train_score': array([ 0.81795285,  0.81316303,  0.81784314,  0.82018658,  0.82459098,\n",
       "         0.82805646,  0.82785836,  0.8281619 ,  0.83403508,  0.83574178,\n",
       "         0.83727402,  0.83518891,  0.84033352,  0.84282846,  0.84118998,\n",
       "         0.8429541 ,  0.84774459,  0.8496305 ,  0.85106785,  0.85122103]),\n",
       " 'split4_test_score': array([ 0.81588657,  0.80550792,  0.81153545,  0.81525397,  0.81733802,\n",
       "         0.81711093,  0.81500854,  0.81588967,  0.82261913,  0.81467752,\n",
       "         0.82381359,  0.8138234 ,  0.81807124,  0.81696618,  0.81982435,\n",
       "         0.81360307,  0.81528066,  0.81409168,  0.8196112 ,  0.81239117]),\n",
       " 'split4_train_score': array([ 0.8170574 ,  0.8098569 ,  0.81572225,  0.81894842,  0.82286956,\n",
       "         0.82345579,  0.82168393,  0.82784612,  0.83110964,  0.83110479,\n",
       "         0.83422829,  0.83353565,  0.83966041,  0.83982374,  0.8397636 ,\n",
       "         0.84183314,  0.84515309,  0.84822854,  0.84771133,  0.84905482]),\n",
       " 'std_fit_time': array([ 0.02672092,  0.0362989 ,  0.00531724,  0.00816344,  0.00795435,\n",
       "         0.01317555,  0.00891501,  0.00510127,  0.01535131,  0.00873596,\n",
       "         0.01736215,  0.01286202,  0.01522888,  0.02127873,  0.02023804,\n",
       "         0.01931391,  0.02573134,  0.01789439,  0.014784  ,  0.02469527]),\n",
       " 'std_score_time': array([ 0.00040047,  0.00089479,  0.00080099,  0.00040054,  0.00040007,\n",
       "         0.00040078,  0.00040026,  0.00080109,  0.00098065,  0.00063241,\n",
       "         0.00382873,  0.00312555,  0.00135726,  0.00599231,  0.0012001 ,\n",
       "         0.00049124,  0.0018566 ,  0.0026401 ,  0.00253141,  0.00089543]),\n",
       " 'std_test_score': array([ 0.0025127 ,  0.0045353 ,  0.00291495,  0.00245895,  0.00187452,\n",
       "         0.00218186,  0.00154569,  0.00278638,  0.00202324,  0.00180192,\n",
       "         0.0018101 ,  0.00304556,  0.0019405 ,  0.00180962,  0.00412292,\n",
       "         0.00364574,  0.00361375,  0.00255076,  0.00567478,  0.00363421]),\n",
       " 'std_train_score': array([ 0.00193448,  0.00194156,  0.00086434,  0.00075064,  0.00136114,\n",
       "         0.0021167 ,  0.00211745,  0.0008061 ,  0.00137201,  0.0016534 ,\n",
       "         0.00126489,  0.000738  ,  0.00083632,  0.00101769,  0.00099703,\n",
       "         0.00061583,  0.00088123,  0.00116256,  0.00126471,  0.00085189])}"
      ]
     },
     "execution_count": 52,
     "metadata": {},
     "output_type": "execute_result"
    }
   ],
   "source": [
    "tree_grid.cv_results_"
   ]
  },
  {
   "cell_type": "code",
   "execution_count": null,
   "metadata": {
    "collapsed": true
   },
   "outputs": [],
   "source": [
    "#0.00180192 < 0.01"
   ]
  },
  {
   "cell_type": "code",
   "execution_count": null,
   "metadata": {
    "collapsed": true
   },
   "outputs": [],
   "source": [
    "#ответ - 3"
   ]
  },
  {
   "cell_type": "markdown",
   "metadata": {},
   "source": [
    "# Простая реализация случайного леса"
   ]
  },
  {
   "cell_type": "markdown",
   "metadata": {},
   "source": [
    "**<font color='red'>Задание 4.</font>**\n",
    "Реализуйте свой собственный случайный лес с помощью `DecisionTreeClassifier` с лучшими параметрами из прошлого задания. В нашем лесу будет 10 деревьев, предсказанные вероятности которых вам нужно усреднить. \n",
    "\n",
    "Краткая спецификация: \n",
    " - Используйте основу ниже\n",
    " - В методе `fit` в цикле (`i` от 0 до `n_estimators-1`) фиксируйте seed, равный (`random_state + i`). Почему именно так – неважно, главное чтоб на каждой итерации seed был новый, при этом все значения можно было бы воспроизвести\n",
    " - Зафиксировав seed, выберите **без замещения** `max_features` признаков, сохраните список выбранных id признаков в `self.feat_ids_by_tree`\n",
    " - Также сделайте bootstrap-выборку (т.е. **с замещением**) из множества id объектов \n",
    " - Обучите дерево с теми же `max_depth`, `max_features` и `random_state`, что и у `RandomForestClassifierCustom` на выборке с нужным подмножеством объектов и признаков\n",
    " - Метод `fit` возвращает текущий экземпляр класса `RandomForestClassifierCustom`, то есть `self`\n",
    " - В методе `predict_proba` опять нужен цикл по всем деревьям. У тестовой выборки нужно взять те признаки, на которых соответсвующее дерево обучалось, и сделать прогноз вероятностей (`predict_proba` уже для дерева). Метод должен вернуть усреднение прогнозов по всем деревьям.\n",
    "\n",
    "Проведите кросс-валидацию. Какое получилось среднее значение ROC AUC на кросс-валидации? Выберите самое близкое значение.\n",
    "\n",
    "**<font color='red'>Варианты ответа:</font>**\n",
    "- 0.823\n",
    "- 0.833\n",
    "- 0.843\n",
    "- 0.853"
   ]
  },
  {
   "cell_type": "code",
   "execution_count": 15,
   "metadata": {
    "collapsed": true
   },
   "outputs": [],
   "source": [
    "from sklearn.model_selection import cross_val_score\n",
    "\n",
    "from sklearn.base import BaseEstimator\n",
    "\n",
    "class RandomForestClassifierCustom(BaseEstimator):\n",
    "    def __init__(self, n_estimators=10, max_depth=3, max_features=10, random_state=17):\n",
    "        self.n_estimators = n_estimators\n",
    "        self.max_depth = max_depth\n",
    "        self.max_features = max_features\n",
    "        self.random_state = random_state\n",
    "        # в данном списке будем хранить отдельные деревья\n",
    "        self.trees = []\n",
    "        # тут будем хранить списки индексов признаков, на которых обучалось каждое дерево \n",
    "        self.feat_ids_by_tree = []\n",
    "        \n",
    "    def fit(self, X, y):\n",
    "        \n",
    "        # Ваш код здесь\n",
    "        pass\n",
    "        \n",
    "    \n",
    "    def predict_proba(self, X):\n",
    "        \n",
    "        # Ваш код здесь\n",
    "        pass"
   ]
  },
  {
   "cell_type": "code",
   "execution_count": 16,
   "metadata": {
    "collapsed": true
   },
   "outputs": [],
   "source": [
    "# Ваш код здесь"
   ]
  },
  {
   "cell_type": "markdown",
   "metadata": {},
   "source": [
    "**<font color='red'>Задание 5.</font>**\n",
    "Тут сравним нашу собственную реализацию случайного леса с `sklearn`-овской. Для этого воспользуйтесь `RandomForestClassifier(n_jobs=1, random_state=17)`, укажите все те же значения `max_depth` и `max_features`, что и раньше. Какое среднее значение ROC AUC на кросс-валидации мы в итоге получили? Выберите самое близкое значение.\n",
    "\n",
    "**<font color='red'>Варианты ответа:</font>**\n",
    "- 0.823\n",
    "- 0.833\n",
    "- 0.843\n",
    "- 0.853"
   ]
  },
  {
   "cell_type": "code",
   "execution_count": 17,
   "metadata": {
    "collapsed": true
   },
   "outputs": [],
   "source": [
    "from sklearn.ensemble import RandomForestClassifier\n",
    "# Ваш код здесь"
   ]
  },
  {
   "cell_type": "markdown",
   "metadata": {},
   "source": [
    "# Случайный лес `sklearn`, подбор гиперпараметров"
   ]
  },
  {
   "cell_type": "markdown",
   "metadata": {},
   "source": [
    "**<font color='red'>Задание 6.</font>** \n",
    "В 3 задании мы находили оптимальные гиперпараметры для одного дерева, но может быть, для ансамбля эти параметры дерева не будут оптимальными. Давайте проверим это с помощью `GridSearchCV` `(RandomForestClassifier(random_state=17)`).  Только теперь расширим перебираемые значения `max_depth` до 15 включительно, так как в лесу нужны деревья поглубже (а почему именно – вы поняли из [статьи](https://habrahabr.ru/company/ods/blog/324402/)). Какими теперь стали лучшие значения гиперпараметров?\n",
    "\n",
    "**<font color='red'>Варианты ответа:</font>**\n",
    "- `max_depth=8, max_features=4`\n",
    "- `max_depth=9, max_features=5`\n",
    "- `max_depth=10, max_features=6`\n",
    "- `max_depth=11, max_features=7`"
   ]
  },
  {
   "cell_type": "code",
   "execution_count": 18,
   "metadata": {
    "collapsed": true
   },
   "outputs": [],
   "source": [
    "max_depth_values = range(5, 16)\n",
    "max_features_values = range(4, 8)\n",
    "forest_params = {'max_depth': max_depth_values,\n",
    "               'max_features': max_features_values}"
   ]
  },
  {
   "cell_type": "code",
   "execution_count": 19,
   "metadata": {
    "collapsed": true
   },
   "outputs": [],
   "source": [
    "# Ваш код здесь"
   ]
  },
  {
   "cell_type": "markdown",
   "metadata": {},
   "source": [
    "# Логистическая регрессия, подбор гиперпараметров"
   ]
  },
  {
   "cell_type": "markdown",
   "metadata": {},
   "source": [
    "**<font color='red'>Задание 7.</font>**  Теперь сравним с логистической регрессией (укажем `class_weight='balanced'` и `random_state=17`). Сделайте полный перебор по параметру `C` из широкого диапазона значений `np.logspace(-8, 8, 17)`. \n",
    "Только сделаем это корректно и выстроим пайплайн – сначала масштабирование, затем обучение модели. \n",
    "\n",
    "Разберитесь с пайплайнами и проведите кросс-валидацию. Какое получилось лучшее значение средней ROC AUC? Выберите самое близкое значение.\n",
    "\n",
    "**<font color='red'>Варианты ответа:</font>**\n",
    "- 0.778\n",
    "- 0.788\n",
    "- 0.798\n",
    "- 0.808"
   ]
  },
  {
   "cell_type": "code",
   "execution_count": 20,
   "metadata": {
    "collapsed": true
   },
   "outputs": [],
   "source": [
    "from sklearn.pipeline import Pipeline\n",
    "from sklearn.preprocessing import StandardScaler\n",
    "from sklearn.linear_model import LogisticRegression\n",
    "\n",
    "scaler = StandardScaler()\n",
    "logit = LogisticRegression(random_state=17, class_weight='balanced')\n",
    "\n",
    "logit_pipe = Pipeline([('scaler', scaler), ('logit', logit)])\n",
    "logit_pipe_params = {'logit__C': np.logspace(-8, 8, 17)}"
   ]
  },
  {
   "cell_type": "code",
   "execution_count": 21,
   "metadata": {
    "collapsed": true
   },
   "outputs": [],
   "source": [
    "# Ваш код здесь"
   ]
  },
  {
   "cell_type": "markdown",
   "metadata": {},
   "source": [
    "# Логистическая регрессия и случайный лес на разреженных признаках"
   ]
  },
  {
   "cell_type": "markdown",
   "metadata": {},
   "source": [
    "В случае небольшого числа признаков случайный лес показал себя лучше логистической регрессии. Однако один из главных недостатков деревьев проявляется при работе с разреженным данными, например с текстами. Давайте сравним логистическую регрессию и случайный лес в новой задаче.\n",
    "Скачайте данные с отзывами к фильмам [отсюда](https://yadi.sk/d/pHZlDkg-3NSUQW)."
   ]
  },
  {
   "cell_type": "code",
   "execution_count": 23,
   "metadata": {
    "collapsed": false
   },
   "outputs": [
    {
     "data": {
      "text/plain": [
       "1    32492\n",
       "0    17508\n",
       "Name: label, dtype: int64"
      ]
     },
     "execution_count": 23,
     "metadata": {},
     "output_type": "execute_result"
    }
   ],
   "source": [
    "# Загрузим данные\n",
    "df = pd.read_csv(\"../../data/movie_reviews_train.csv\", nrows=50000)\n",
    "\n",
    "# Разделим данные на текст и целевой признак\n",
    "X_text = df[\"text\"]\n",
    "y_text = df[\"label\"]\n",
    "\n",
    "# Соотношения классов\n",
    "df.label.value_counts()"
   ]
  },
  {
   "cell_type": "code",
   "execution_count": 24,
   "metadata": {
    "collapsed": true
   },
   "outputs": [],
   "source": [
    "from sklearn.feature_extraction.text import CountVectorizer\n",
    "from sklearn.pipeline import Pipeline\n",
    "\n",
    "# будем разбивать на 3 фолда\n",
    "skf = StratifiedKFold(n_splits=3, shuffle=True, random_state=17)\n",
    "\n",
    "# в Pipeline будем сразу преобразовать наш текст и обучать логистическую регрессию\n",
    "classifier = Pipeline([\n",
    "    ('vectorizer', CountVectorizer(max_features = 100000, ngram_range = (1, 3))),\n",
    "    ('clf', LogisticRegression(random_state=17))])"
   ]
  },
  {
   "cell_type": "markdown",
   "metadata": {},
   "source": [
    "**<font color='red'>Задание 8.</font>** Сделайте полный перебор по параметру `C` из выборки [0.1, 1, 10, 100]. Какое лучшее значение ROC AUC получилось на кросс-валидации? Выберите самое близкое значение.\n",
    "\n",
    "**<font color='red'>Варианты ответа:</font>**\n",
    "- 0.74\n",
    "- 0.75\n",
    "- 0.84\n",
    "- 0.85"
   ]
  },
  {
   "cell_type": "code",
   "execution_count": 25,
   "metadata": {
    "collapsed": true
   },
   "outputs": [],
   "source": [
    "# Ваш код здесь"
   ]
  },
  {
   "cell_type": "markdown",
   "metadata": {},
   "source": [
    "**<font color='red'>Задание 9.</font>** Теперь попробуем сравнить со случайным лесом. Аналогично делаем перебор и получаем максимальное ROC AUC. Выберите самое близкое значение.\n",
    "\n",
    "**<font color='red'>Варианты ответа:</font>**\n",
    "- 0.74\n",
    "- 0.75\n",
    "- 0.84\n",
    "- 0.85"
   ]
  },
  {
   "cell_type": "code",
   "execution_count": 26,
   "metadata": {
    "collapsed": true
   },
   "outputs": [],
   "source": [
    "classifier = Pipeline([\n",
    "    ('vectorizer', CountVectorizer(max_features = 100000, ngram_range = (1, 3))),\n",
    "    ('clf', RandomForestClassifier(random_state=17, n_jobs=-1))])\n",
    "\n",
    "min_samples_leaf = [1, 2, 3]\n",
    "max_features = [0.3, 0.5, 0.7]\n",
    "max_depth = [None]"
   ]
  },
  {
   "cell_type": "code",
   "execution_count": 27,
   "metadata": {
    "collapsed": true
   },
   "outputs": [],
   "source": [
    "# Ваш код здесь"
   ]
  }
 ],
 "metadata": {
  "kernelspec": {
   "display_name": "Python 3",
   "language": "python",
   "name": "python3"
  },
  "language_info": {
   "codemirror_mode": {
    "name": "ipython",
    "version": 3
   },
   "file_extension": ".py",
   "mimetype": "text/x-python",
   "name": "python",
   "nbconvert_exporter": "python",
   "pygments_lexer": "ipython3",
   "version": "3.6.0"
  }
 },
 "nbformat": 4,
 "nbformat_minor": 2
}
